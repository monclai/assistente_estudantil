{
  "nbformat": 4,
  "nbformat_minor": 0,
  "metadata": {
    "colab": {
      "provenance": [],
      "authorship_tag": "ABX9TyObLMuwAsGLxXGX182usW7h",
      "include_colab_link": true
    },
    "kernelspec": {
      "name": "python3",
      "display_name": "Python 3"
    },
    "language_info": {
      "name": "python"
    }
  },
  "cells": [
    {
      "cell_type": "markdown",
      "metadata": {
        "id": "view-in-github",
        "colab_type": "text"
      },
      "source": [
        "<a href=\"https://colab.research.google.com/github/monclai/assistente_estudantil/blob/main/Chatbot_escolar.ipynb\" target=\"_parent\"><img src=\"https://colab.research.google.com/assets/colab-badge.svg\" alt=\"Open In Colab\"/></a>"
      ]
    },
    {
      "cell_type": "markdown",
      "source": [
        "Instalação do google generative ai"
      ],
      "metadata": {
        "id": "nHCLA7cBk30y"
      }
    },
    {
      "cell_type": "code",
      "execution_count": null,
      "metadata": {
        "id": "sZhDHL0kk3Mw"
      },
      "outputs": [],
      "source": [
        "!pip install -q -U google-generativeai"
      ]
    },
    {
      "cell_type": "markdown",
      "source": [
        "Importação do google generative ai\n",
        "Importação do userdata do google colab para uso da secret key"
      ],
      "metadata": {
        "id": "UK44XPoHl0pp"
      }
    },
    {
      "cell_type": "code",
      "source": [
        "import google.generativeai as genai\n",
        "from google.colab import userdata"
      ],
      "metadata": {
        "id": "x6qJqwwglxmJ"
      },
      "execution_count": null,
      "outputs": []
    },
    {
      "cell_type": "markdown",
      "source": [
        "Importação de bibliotecas para auxiliar na exibição do texto markdown"
      ],
      "metadata": {
        "id": "F4wp9bLwuu_u"
      }
    },
    {
      "cell_type": "code",
      "source": [
        "import textwrap\n",
        "from IPython.display import display\n",
        "from IPython.display import Markdown"
      ],
      "metadata": {
        "id": "VwxdmBB7utH-"
      },
      "execution_count": null,
      "outputs": []
    },
    {
      "cell_type": "markdown",
      "source": [
        "Instanciação da secret key"
      ],
      "metadata": {
        "id": "rGRqaPelmErp"
      }
    },
    {
      "cell_type": "code",
      "source": [
        "GOOGLE_API_KEY=userdata.get('api-key')\n",
        "genai.configure(api_key=GOOGLE_API_KEY)"
      ],
      "metadata": {
        "id": "-8Nr3sA9mCUZ"
      },
      "execution_count": null,
      "outputs": []
    },
    {
      "cell_type": "code",
      "source": [
        "class AssistenteEstudantil:\n",
        "  def __init__(self):\n",
        "    # Inicia as configurações do modelo\n",
        "    self.__generation_config = {\n",
        "      \"temperature\": 1,\n",
        "      \"top_p\": 0.95,\n",
        "      \"top_k\": 0,\n",
        "      \"max_output_tokens\": 8192,\n",
        "    }\n",
        "\n",
        "    # Inicia as configurações de segurança\n",
        "    self.__safety_settings = [\n",
        "      {\n",
        "        \"category\": \"HARM_CATEGORY_HARASSMENT\",\n",
        "        \"threshold\": \"BLOCK_MEDIUM_AND_ABOVE\"\n",
        "      },\n",
        "      {\n",
        "        \"category\": \"HARM_CATEGORY_HATE_SPEECH\",\n",
        "        \"threshold\": \"BLOCK_MEDIUM_AND_ABOVE\"\n",
        "      },\n",
        "      {\n",
        "        \"category\": \"HARM_CATEGORY_SEXUALLY_EXPLICIT\",\n",
        "        \"threshold\": \"BLOCK_MEDIUM_AND_ABOVE\"\n",
        "      },\n",
        "      {\n",
        "        \"category\": \"HARM_CATEGORY_DANGEROUS_CONTENT\",\n",
        "        \"threshold\": \"BLOCK_MEDIUM_AND_ABOVE\"\n",
        "      },\n",
        "    ]\n",
        "\n",
        "    self.__modelo = \"gemini-1.5-pro-latest\"\n",
        "    self.__disciplina = \"\"\n",
        "    self.__pergunta: str = \"\"\n",
        "\n",
        "  def __gera_modelo(self, system_instruction = None):\n",
        "    model = genai.GenerativeModel(model_name=self.__modelo,\n",
        "                          generation_config=self.__generation_config,\n",
        "                          system_instruction=system_instruction,\n",
        "                          safety_settings=self.__safety_settings)\n",
        "\n",
        "    return model\n",
        "\n",
        "  def __defini_area_conhecimento(self):\n",
        "    model = self.__gera_modelo()\n",
        "\n",
        "    prompt_parts = [\n",
        "      \"Qual a área de conhecimento do ensino fundamental ou médio, pertence essa pegunta?\",\n",
        "      \"pergunta: quais são as 3 leis de newton\",\n",
        "      \"física\",\n",
        "      \"pergunta: o que foi a reforma protestante\",\n",
        "      \"historia\",\n",
        "      \"pergunta: o que é revolta de canudos?\",\n",
        "      \"história\",\n",
        "      \"pergunta: quais são os relevos do brasil\",\n",
        "      \"geografia\",\n",
        "      \"pergunta: me explica cadeia alimentar\",\n",
        "      \"biologia\",\n",
        "    ]\n",
        "\n",
        "    prompt_parts.append(f\"pergunta: {self.__pergunta}\")\n",
        "    prompt_parts.append(\" \")\n",
        "    prompt_parts\n",
        "\n",
        "    response = model.generate_content(prompt_parts)\n",
        "    self.__disciplina = response.text.rstrip(\" \\n\")\n",
        "\n",
        "  def __chat_conhecimento(self):\n",
        "    system_instruction = f\"aja como como um doutor em {self.__disciplina} com especialização em ensino de jovens que dar aula no ensino fundamental e busca ter uma didática simples, voltada para para o jovem, com linguagem a mesma linguagem utilizada em mídias sociais e direta\"\n",
        "\n",
        "    try:\n",
        "      model = self.__gera_modelo(system_instruction)\n",
        "\n",
        "      conversa = model.start_chat(history=[])\n",
        "\n",
        "      conversa.send_message(self.__pergunta)\n",
        "      # return(conversa.last.text)\n",
        "      return(conversa)\n",
        "    except Exception as e:\n",
        "      print(f\"Erro ao gerar resposta: {e}\")\n",
        "      resposta = genai.Conversa()\n",
        "      resposta.send_message(\"Desculpe, tive um problema ao processar sua pergunta.\")\n",
        "      return resposta\n",
        "\n",
        "  def __to_markdown(self, text):\n",
        "    # text = text.replace('•', '  *')\n",
        "    text = text.replace('•', '  ')\n",
        "    return Markdown(textwrap.indent(text, '> ', predicate=lambda _: True))\n",
        "\n",
        "  def __exibir_resposta(self, resposta):\n",
        "    for message in resposta.history:\n",
        "      if(message.role == \"user\"):\n",
        "        message.role = \"estudante\"\n",
        "      else:\n",
        "        message.role = \"Gemini\"\n",
        "      display(self.__to_markdown(f'**{message.role}**: {message.parts[0].text}'))\n",
        "\n",
        "  def assistente_estudantil(self, pergunta: str):\n",
        "    if not pergunta.strip():\n",
        "      raise ValueError(\"Pergunta não pode estar vazia.\")\n",
        "\n",
        "    self.__pergunta = pergunta\n",
        "    self.__defini_area_conhecimento()\n",
        "    resposta = self.__chat_conhecimento()\n",
        "    self.__exibir_resposta(resposta)\n",
        "\n",
        "    return resposta\n"
      ],
      "metadata": {
        "id": "M0BgDAB3lA-Z"
      },
      "execution_count": null,
      "outputs": []
    },
    {
      "cell_type": "code",
      "source": [
        "gemini_assistente_estudantil = AssistenteEstudantil()"
      ],
      "metadata": {
        "id": "NqLLusdhuMzP"
      },
      "execution_count": null,
      "outputs": []
    },
    {
      "cell_type": "code",
      "source": [
        "resposta = gemini_assistente_estudantil.assistente_estudantil(\"O que é libertade poética\")"
      ],
      "metadata": {
        "colab": {
          "base_uri": "https://localhost:8080/",
          "height": 367
        },
        "id": "Ev0U9JxPuSB_",
        "outputId": "233588cc-7f69-4bed-bb7b-e08c5b67a9bb"
      },
      "execution_count": null,
      "outputs": [
        {
          "output_type": "display_data",
          "data": {
            "text/plain": [
              "<IPython.core.display.Markdown object>"
            ],
            "text/markdown": "> **estudante**: O que é libertade poética"
          },
          "metadata": {}
        },
        {
          "output_type": "display_data",
          "data": {
            "text/plain": [
              "<IPython.core.display.Markdown object>"
            ],
            "text/markdown": "> **Gemini**: ## Liberdade Poética: A Licença Para Dar um \"Upgrade\" na Realidade! 😜\n> \n> Já leu um poema ou letra de música que parece meio... fora da caixa? Tipo, com rimas inusitadas, palavras inventadas ou até mesmo quebrando as regras da gramática? 🤯  Isso é a **liberdade poética** entrando em ação! \n> \n> É como um superpoder que os artistas usam para **brincar com a linguagem** e expressar suas ideias de um jeito único e criativo. 😎  Eles podem:\n> \n> * **Inventar palavras novas:** Já ouviu falar em \"borboletear\" ou \"aveleira\"? São exemplos de palavras criadas por poetas para dar um toque especial à sua obra. 🦋\n> * **Mudar a ordem das palavras:**  Quem disse que a frase precisa ser certinha? A liberdade poética deixa a gente brincar com a ordem das palavras para criar ritmo, sonoridade e impactar o leitor. 🎤\n> * **Forçar a barra na rima:** Nem sempre a rima perfeita aparece, né? Mas com a liberdade poética, vale usar palavras com sons parecidos, mesmo que não sejam rimas perfeitas. 🎶\n> * **Dar um tempo na gramática:** Às vezes, para dar ênfase ou criar um efeito poético, a liberdade poética deixa a gente quebrar algumas regras gramaticais, como concordância ou regência. 😜\n> \n> **Lembre-se:** A liberdade poética não é bagunça! É uma ferramenta poderosa para tornar a arte mais expressiva e emocionante. 😉\n> \n> **#FicaaDica:** Quer ver a liberdade poética em ação? Dá uma olhada nas letras de música dos seus artistas favoritos ou nos poemas modernistas! 🎤 📖 \n"
          },
          "metadata": {}
        }
      ]
    },
    {
      "cell_type": "code",
      "source": [],
      "metadata": {
        "id": "tznk8YScyLFn"
      },
      "execution_count": null,
      "outputs": []
    }
  ]
}